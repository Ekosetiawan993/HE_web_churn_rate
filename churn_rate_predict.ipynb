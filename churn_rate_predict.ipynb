{
 "cells": [
  {
   "cell_type": "code",
   "execution_count": 1,
   "id": "early-october",
   "metadata": {},
   "outputs": [],
   "source": [
    "import pandas as pd"
   ]
  },
  {
   "cell_type": "code",
   "execution_count": 2,
   "id": "brazilian-player",
   "metadata": {},
   "outputs": [],
   "source": [
    "train = pd.read_csv(r'dataset/train.csv')\n",
    "test = pd.read_csv(r'dataset/test.csv')\n",
    "sample = pd.read_csv(r'dataset/sample_submission.csv')"
   ]
  },
  {
   "cell_type": "code",
   "execution_count": 3,
   "id": "similar-allowance",
   "metadata": {},
   "outputs": [],
   "source": [
    "low_car = [x for x in train.columns if train[x].nunique() < 10 and train[x].dtypes == 'O']"
   ]
  },
  {
   "cell_type": "code",
   "execution_count": 4,
   "id": "clear-trademark",
   "metadata": {},
   "outputs": [],
   "source": [
    "def make_csv(predict, name):\n",
    "    df = pd.DataFrame()\n",
    "    df['customer_id'] = test['customer_id']\n",
    "    df['churn_risk_score'] = predict\n",
    "    \n",
    "    df.to_csv(name, index=False)"
   ]
  },
  {
   "cell_type": "markdown",
   "id": "dressed-speaker",
   "metadata": {},
   "source": [
    "### we will try to predict just using the low cardinality feature"
   ]
  },
  {
   "cell_type": "code",
   "execution_count": 5,
   "id": "plain-spectacular",
   "metadata": {},
   "outputs": [],
   "source": [
    "train_low = train[low_car].copy()\n",
    "test_low = test[low_car].copy()"
   ]
  },
  {
   "cell_type": "code",
   "execution_count": 6,
   "id": "affected-consensus",
   "metadata": {},
   "outputs": [
    {
     "data": {
      "text/plain": [
       "gender                             0\n",
       "region_category                 5428\n",
       "membership_category                0\n",
       "joined_through_referral            0\n",
       "preferred_offer_types            288\n",
       "medium_of_operation                0\n",
       "internet_option                    0\n",
       "used_special_discount              0\n",
       "offer_application_preference       0\n",
       "past_complaint                     0\n",
       "complaint_status                   0\n",
       "feedback                           0\n",
       "dtype: int64"
      ]
     },
     "execution_count": 6,
     "metadata": {},
     "output_type": "execute_result"
    }
   ],
   "source": [
    "train_low.isna().sum()"
   ]
  },
  {
   "cell_type": "code",
   "execution_count": 7,
   "id": "statewide-buyer",
   "metadata": {},
   "outputs": [
    {
     "data": {
      "text/plain": [
       "array(['Village', 'City', 'Town', nan], dtype=object)"
      ]
     },
     "execution_count": 7,
     "metadata": {},
     "output_type": "execute_result"
    }
   ],
   "source": [
    "train_low.region_category.unique()"
   ]
  },
  {
   "cell_type": "code",
   "execution_count": 8,
   "id": "deluxe-grammar",
   "metadata": {},
   "outputs": [
    {
     "data": {
      "text/plain": [
       "0    Town\n",
       "dtype: object"
      ]
     },
     "execution_count": 8,
     "metadata": {},
     "output_type": "execute_result"
    }
   ],
   "source": [
    "train_low.region_category.mode()"
   ]
  },
  {
   "cell_type": "code",
   "execution_count": 9,
   "id": "pleased-arthritis",
   "metadata": {},
   "outputs": [],
   "source": [
    "train_low.region_category.fillna(\"Town\", inplace=True)"
   ]
  },
  {
   "cell_type": "code",
   "execution_count": 10,
   "id": "ancient-disclaimer",
   "metadata": {},
   "outputs": [
    {
     "data": {
      "text/plain": [
       "gender                            0\n",
       "region_category                   0\n",
       "membership_category               0\n",
       "joined_through_referral           0\n",
       "preferred_offer_types           288\n",
       "medium_of_operation               0\n",
       "internet_option                   0\n",
       "used_special_discount             0\n",
       "offer_application_preference      0\n",
       "past_complaint                    0\n",
       "complaint_status                  0\n",
       "feedback                          0\n",
       "dtype: int64"
      ]
     },
     "execution_count": 10,
     "metadata": {},
     "output_type": "execute_result"
    }
   ],
   "source": [
    "train_low.isna().sum()"
   ]
  },
  {
   "cell_type": "code",
   "execution_count": 11,
   "id": "martial-chuck",
   "metadata": {},
   "outputs": [
    {
     "data": {
      "text/plain": [
       "array(['Gift Vouchers/Coupons', 'Credit/Debit Card Offers',\n",
       "       'Without Offers', nan], dtype=object)"
      ]
     },
     "execution_count": 11,
     "metadata": {},
     "output_type": "execute_result"
    }
   ],
   "source": [
    "train_low.preferred_offer_types.unique()"
   ]
  },
  {
   "cell_type": "code",
   "execution_count": 12,
   "id": "successful-relationship",
   "metadata": {},
   "outputs": [
    {
     "data": {
      "text/plain": [
       "0    Gift Vouchers/Coupons\n",
       "dtype: object"
      ]
     },
     "execution_count": 12,
     "metadata": {},
     "output_type": "execute_result"
    }
   ],
   "source": [
    "train_low.preferred_offer_types.mode()"
   ]
  },
  {
   "cell_type": "code",
   "execution_count": 13,
   "id": "reflected-egyptian",
   "metadata": {},
   "outputs": [],
   "source": [
    "train_low.preferred_offer_types.fillna(\"Gift Vouchers/Coupons\", inplace=True)"
   ]
  },
  {
   "cell_type": "code",
   "execution_count": 14,
   "id": "sufficient-industry",
   "metadata": {},
   "outputs": [
    {
     "data": {
      "text/plain": [
       "gender                          0\n",
       "region_category                 0\n",
       "membership_category             0\n",
       "joined_through_referral         0\n",
       "preferred_offer_types           0\n",
       "medium_of_operation             0\n",
       "internet_option                 0\n",
       "used_special_discount           0\n",
       "offer_application_preference    0\n",
       "past_complaint                  0\n",
       "complaint_status                0\n",
       "feedback                        0\n",
       "dtype: int64"
      ]
     },
     "execution_count": 14,
     "metadata": {},
     "output_type": "execute_result"
    }
   ],
   "source": [
    "train_low.isna().sum()"
   ]
  },
  {
   "cell_type": "markdown",
   "id": "massive-speaker",
   "metadata": {},
   "source": [
    "### fill the test low"
   ]
  },
  {
   "cell_type": "code",
   "execution_count": 15,
   "id": "intense-opportunity",
   "metadata": {},
   "outputs": [
    {
     "data": {
      "text/plain": [
       "gender                             0\n",
       "region_category                 2948\n",
       "membership_category                0\n",
       "joined_through_referral            0\n",
       "preferred_offer_types            159\n",
       "medium_of_operation                0\n",
       "internet_option                    0\n",
       "used_special_discount              0\n",
       "offer_application_preference       0\n",
       "past_complaint                     0\n",
       "complaint_status                   0\n",
       "feedback                           0\n",
       "dtype: int64"
      ]
     },
     "execution_count": 15,
     "metadata": {},
     "output_type": "execute_result"
    }
   ],
   "source": [
    "test_low.isna().sum()"
   ]
  },
  {
   "cell_type": "code",
   "execution_count": 16,
   "id": "naked-layout",
   "metadata": {},
   "outputs": [
    {
     "data": {
      "text/plain": [
       "0    Town\n",
       "dtype: object"
      ]
     },
     "execution_count": 16,
     "metadata": {},
     "output_type": "execute_result"
    }
   ],
   "source": [
    "test_low.region_category.mode()"
   ]
  },
  {
   "cell_type": "code",
   "execution_count": 17,
   "id": "split-raising",
   "metadata": {},
   "outputs": [],
   "source": [
    "test_low.region_category.fillna(\"Town\", inplace=True)"
   ]
  },
  {
   "cell_type": "code",
   "execution_count": 18,
   "id": "russian-movement",
   "metadata": {},
   "outputs": [
    {
     "data": {
      "text/plain": [
       "0    Without Offers\n",
       "dtype: object"
      ]
     },
     "execution_count": 18,
     "metadata": {},
     "output_type": "execute_result"
    }
   ],
   "source": [
    "test_low.preferred_offer_types.mode()"
   ]
  },
  {
   "cell_type": "code",
   "execution_count": 19,
   "id": "minor-delaware",
   "metadata": {},
   "outputs": [],
   "source": [
    "test_low.preferred_offer_types.fillna(\"Without Offers\", inplace=True)"
   ]
  },
  {
   "cell_type": "code",
   "execution_count": 20,
   "id": "transparent-agent",
   "metadata": {},
   "outputs": [
    {
     "data": {
      "text/plain": [
       "gender                          0\n",
       "region_category                 0\n",
       "membership_category             0\n",
       "joined_through_referral         0\n",
       "preferred_offer_types           0\n",
       "medium_of_operation             0\n",
       "internet_option                 0\n",
       "used_special_discount           0\n",
       "offer_application_preference    0\n",
       "past_complaint                  0\n",
       "complaint_status                0\n",
       "feedback                        0\n",
       "dtype: int64"
      ]
     },
     "execution_count": 20,
     "metadata": {},
     "output_type": "execute_result"
    }
   ],
   "source": [
    "test_low.isna().sum()"
   ]
  },
  {
   "cell_type": "code",
   "execution_count": 21,
   "id": "imposed-dream",
   "metadata": {},
   "outputs": [],
   "source": [
    "from sklearn.preprocessing import LabelEncoder\n",
    "train_low_fin = train_low.copy()\n",
    "test_low_fin = test_low.copy()\n",
    "\n",
    "lbl = LabelEncoder()\n",
    "\n",
    "for col in low_car:\n",
    "    train_low_fin[col] = lbl.fit_transform(train_low[col])\n",
    "    test_low_fin[col] = lbl.transform(test_low[col])"
   ]
  },
  {
   "cell_type": "code",
   "execution_count": 22,
   "id": "internal-january",
   "metadata": {},
   "outputs": [
    {
     "data": {
      "text/html": [
       "<div>\n",
       "<style scoped>\n",
       "    .dataframe tbody tr th:only-of-type {\n",
       "        vertical-align: middle;\n",
       "    }\n",
       "\n",
       "    .dataframe tbody tr th {\n",
       "        vertical-align: top;\n",
       "    }\n",
       "\n",
       "    .dataframe thead th {\n",
       "        text-align: right;\n",
       "    }\n",
       "</style>\n",
       "<table border=\"1\" class=\"dataframe\">\n",
       "  <thead>\n",
       "    <tr style=\"text-align: right;\">\n",
       "      <th></th>\n",
       "      <th>gender</th>\n",
       "      <th>region_category</th>\n",
       "      <th>membership_category</th>\n",
       "      <th>joined_through_referral</th>\n",
       "      <th>preferred_offer_types</th>\n",
       "      <th>medium_of_operation</th>\n",
       "      <th>internet_option</th>\n",
       "      <th>used_special_discount</th>\n",
       "      <th>offer_application_preference</th>\n",
       "      <th>past_complaint</th>\n",
       "      <th>complaint_status</th>\n",
       "      <th>feedback</th>\n",
       "    </tr>\n",
       "  </thead>\n",
       "  <tbody>\n",
       "    <tr>\n",
       "      <th>0</th>\n",
       "      <td>0</td>\n",
       "      <td>2</td>\n",
       "      <td>3</td>\n",
       "      <td>1</td>\n",
       "      <td>1</td>\n",
       "      <td>0</td>\n",
       "      <td>2</td>\n",
       "      <td>1</td>\n",
       "      <td>1</td>\n",
       "      <td>0</td>\n",
       "      <td>1</td>\n",
       "      <td>4</td>\n",
       "    </tr>\n",
       "    <tr>\n",
       "      <th>1</th>\n",
       "      <td>0</td>\n",
       "      <td>0</td>\n",
       "      <td>4</td>\n",
       "      <td>0</td>\n",
       "      <td>1</td>\n",
       "      <td>2</td>\n",
       "      <td>1</td>\n",
       "      <td>1</td>\n",
       "      <td>0</td>\n",
       "      <td>1</td>\n",
       "      <td>2</td>\n",
       "      <td>5</td>\n",
       "    </tr>\n",
       "    <tr>\n",
       "      <th>2</th>\n",
       "      <td>0</td>\n",
       "      <td>1</td>\n",
       "      <td>2</td>\n",
       "      <td>2</td>\n",
       "      <td>1</td>\n",
       "      <td>2</td>\n",
       "      <td>2</td>\n",
       "      <td>0</td>\n",
       "      <td>1</td>\n",
       "      <td>1</td>\n",
       "      <td>3</td>\n",
       "      <td>3</td>\n",
       "    </tr>\n",
       "    <tr>\n",
       "      <th>3</th>\n",
       "      <td>1</td>\n",
       "      <td>0</td>\n",
       "      <td>2</td>\n",
       "      <td>2</td>\n",
       "      <td>1</td>\n",
       "      <td>2</td>\n",
       "      <td>1</td>\n",
       "      <td>0</td>\n",
       "      <td>1</td>\n",
       "      <td>1</td>\n",
       "      <td>4</td>\n",
       "      <td>3</td>\n",
       "    </tr>\n",
       "    <tr>\n",
       "      <th>4</th>\n",
       "      <td>0</td>\n",
       "      <td>0</td>\n",
       "      <td>2</td>\n",
       "      <td>1</td>\n",
       "      <td>0</td>\n",
       "      <td>3</td>\n",
       "      <td>1</td>\n",
       "      <td>0</td>\n",
       "      <td>1</td>\n",
       "      <td>1</td>\n",
       "      <td>2</td>\n",
       "      <td>3</td>\n",
       "    </tr>\n",
       "    <tr>\n",
       "      <th>...</th>\n",
       "      <td>...</td>\n",
       "      <td>...</td>\n",
       "      <td>...</td>\n",
       "      <td>...</td>\n",
       "      <td>...</td>\n",
       "      <td>...</td>\n",
       "      <td>...</td>\n",
       "      <td>...</td>\n",
       "      <td>...</td>\n",
       "      <td>...</td>\n",
       "      <td>...</td>\n",
       "      <td>...</td>\n",
       "    </tr>\n",
       "    <tr>\n",
       "      <th>36987</th>\n",
       "      <td>0</td>\n",
       "      <td>1</td>\n",
       "      <td>0</td>\n",
       "      <td>1</td>\n",
       "      <td>0</td>\n",
       "      <td>2</td>\n",
       "      <td>2</td>\n",
       "      <td>0</td>\n",
       "      <td>1</td>\n",
       "      <td>1</td>\n",
       "      <td>0</td>\n",
       "      <td>0</td>\n",
       "    </tr>\n",
       "    <tr>\n",
       "      <th>36988</th>\n",
       "      <td>0</td>\n",
       "      <td>1</td>\n",
       "      <td>0</td>\n",
       "      <td>1</td>\n",
       "      <td>2</td>\n",
       "      <td>3</td>\n",
       "      <td>2</td>\n",
       "      <td>1</td>\n",
       "      <td>0</td>\n",
       "      <td>0</td>\n",
       "      <td>1</td>\n",
       "      <td>1</td>\n",
       "    </tr>\n",
       "    <tr>\n",
       "      <th>36989</th>\n",
       "      <td>0</td>\n",
       "      <td>1</td>\n",
       "      <td>0</td>\n",
       "      <td>2</td>\n",
       "      <td>1</td>\n",
       "      <td>2</td>\n",
       "      <td>2</td>\n",
       "      <td>0</td>\n",
       "      <td>1</td>\n",
       "      <td>1</td>\n",
       "      <td>4</td>\n",
       "      <td>3</td>\n",
       "    </tr>\n",
       "    <tr>\n",
       "      <th>36990</th>\n",
       "      <td>1</td>\n",
       "      <td>2</td>\n",
       "      <td>3</td>\n",
       "      <td>1</td>\n",
       "      <td>1</td>\n",
       "      <td>3</td>\n",
       "      <td>1</td>\n",
       "      <td>1</td>\n",
       "      <td>1</td>\n",
       "      <td>0</td>\n",
       "      <td>1</td>\n",
       "      <td>0</td>\n",
       "    </tr>\n",
       "    <tr>\n",
       "      <th>36991</th>\n",
       "      <td>1</td>\n",
       "      <td>1</td>\n",
       "      <td>5</td>\n",
       "      <td>1</td>\n",
       "      <td>1</td>\n",
       "      <td>2</td>\n",
       "      <td>1</td>\n",
       "      <td>1</td>\n",
       "      <td>0</td>\n",
       "      <td>0</td>\n",
       "      <td>1</td>\n",
       "      <td>5</td>\n",
       "    </tr>\n",
       "  </tbody>\n",
       "</table>\n",
       "<p>36992 rows × 12 columns</p>\n",
       "</div>"
      ],
      "text/plain": [
       "       gender  region_category  membership_category  joined_through_referral  \\\n",
       "0           0                2                    3                        1   \n",
       "1           0                0                    4                        0   \n",
       "2           0                1                    2                        2   \n",
       "3           1                0                    2                        2   \n",
       "4           0                0                    2                        1   \n",
       "...       ...              ...                  ...                      ...   \n",
       "36987       0                1                    0                        1   \n",
       "36988       0                1                    0                        1   \n",
       "36989       0                1                    0                        2   \n",
       "36990       1                2                    3                        1   \n",
       "36991       1                1                    5                        1   \n",
       "\n",
       "       preferred_offer_types  medium_of_operation  internet_option  \\\n",
       "0                          1                    0                2   \n",
       "1                          1                    2                1   \n",
       "2                          1                    2                2   \n",
       "3                          1                    2                1   \n",
       "4                          0                    3                1   \n",
       "...                      ...                  ...              ...   \n",
       "36987                      0                    2                2   \n",
       "36988                      2                    3                2   \n",
       "36989                      1                    2                2   \n",
       "36990                      1                    3                1   \n",
       "36991                      1                    2                1   \n",
       "\n",
       "       used_special_discount  offer_application_preference  past_complaint  \\\n",
       "0                          1                             1               0   \n",
       "1                          1                             0               1   \n",
       "2                          0                             1               1   \n",
       "3                          0                             1               1   \n",
       "4                          0                             1               1   \n",
       "...                      ...                           ...             ...   \n",
       "36987                      0                             1               1   \n",
       "36988                      1                             0               0   \n",
       "36989                      0                             1               1   \n",
       "36990                      1                             1               0   \n",
       "36991                      1                             0               0   \n",
       "\n",
       "       complaint_status  feedback  \n",
       "0                     1         4  \n",
       "1                     2         5  \n",
       "2                     3         3  \n",
       "3                     4         3  \n",
       "4                     2         3  \n",
       "...                 ...       ...  \n",
       "36987                 0         0  \n",
       "36988                 1         1  \n",
       "36989                 4         3  \n",
       "36990                 1         0  \n",
       "36991                 1         5  \n",
       "\n",
       "[36992 rows x 12 columns]"
      ]
     },
     "execution_count": 22,
     "metadata": {},
     "output_type": "execute_result"
    }
   ],
   "source": [
    "train_low_fin"
   ]
  },
  {
   "cell_type": "code",
   "execution_count": 23,
   "id": "partial-louisiana",
   "metadata": {},
   "outputs": [
    {
     "data": {
      "text/html": [
       "<div>\n",
       "<style scoped>\n",
       "    .dataframe tbody tr th:only-of-type {\n",
       "        vertical-align: middle;\n",
       "    }\n",
       "\n",
       "    .dataframe tbody tr th {\n",
       "        vertical-align: top;\n",
       "    }\n",
       "\n",
       "    .dataframe thead th {\n",
       "        text-align: right;\n",
       "    }\n",
       "</style>\n",
       "<table border=\"1\" class=\"dataframe\">\n",
       "  <thead>\n",
       "    <tr style=\"text-align: right;\">\n",
       "      <th></th>\n",
       "      <th>gender</th>\n",
       "      <th>region_category</th>\n",
       "      <th>membership_category</th>\n",
       "      <th>joined_through_referral</th>\n",
       "      <th>preferred_offer_types</th>\n",
       "      <th>medium_of_operation</th>\n",
       "      <th>internet_option</th>\n",
       "      <th>used_special_discount</th>\n",
       "      <th>offer_application_preference</th>\n",
       "      <th>past_complaint</th>\n",
       "      <th>complaint_status</th>\n",
       "      <th>feedback</th>\n",
       "    </tr>\n",
       "  </thead>\n",
       "  <tbody>\n",
       "    <tr>\n",
       "      <th>0</th>\n",
       "      <td>0</td>\n",
       "      <td>2</td>\n",
       "      <td>4</td>\n",
       "      <td>1</td>\n",
       "      <td>2</td>\n",
       "      <td>3</td>\n",
       "      <td>2</td>\n",
       "      <td>1</td>\n",
       "      <td>0</td>\n",
       "      <td>0</td>\n",
       "      <td>1</td>\n",
       "      <td>2</td>\n",
       "    </tr>\n",
       "    <tr>\n",
       "      <th>1</th>\n",
       "      <td>1</td>\n",
       "      <td>2</td>\n",
       "      <td>1</td>\n",
       "      <td>1</td>\n",
       "      <td>2</td>\n",
       "      <td>2</td>\n",
       "      <td>0</td>\n",
       "      <td>1</td>\n",
       "      <td>0</td>\n",
       "      <td>0</td>\n",
       "      <td>1</td>\n",
       "      <td>3</td>\n",
       "    </tr>\n",
       "    <tr>\n",
       "      <th>2</th>\n",
       "      <td>0</td>\n",
       "      <td>1</td>\n",
       "      <td>5</td>\n",
       "      <td>1</td>\n",
       "      <td>1</td>\n",
       "      <td>1</td>\n",
       "      <td>1</td>\n",
       "      <td>1</td>\n",
       "      <td>0</td>\n",
       "      <td>1</td>\n",
       "      <td>3</td>\n",
       "      <td>0</td>\n",
       "    </tr>\n",
       "    <tr>\n",
       "      <th>3</th>\n",
       "      <td>1</td>\n",
       "      <td>1</td>\n",
       "      <td>5</td>\n",
       "      <td>2</td>\n",
       "      <td>0</td>\n",
       "      <td>0</td>\n",
       "      <td>0</td>\n",
       "      <td>1</td>\n",
       "      <td>0</td>\n",
       "      <td>1</td>\n",
       "      <td>0</td>\n",
       "      <td>7</td>\n",
       "    </tr>\n",
       "    <tr>\n",
       "      <th>4</th>\n",
       "      <td>0</td>\n",
       "      <td>1</td>\n",
       "      <td>2</td>\n",
       "      <td>2</td>\n",
       "      <td>2</td>\n",
       "      <td>3</td>\n",
       "      <td>1</td>\n",
       "      <td>0</td>\n",
       "      <td>1</td>\n",
       "      <td>1</td>\n",
       "      <td>3</td>\n",
       "      <td>3</td>\n",
       "    </tr>\n",
       "    <tr>\n",
       "      <th>...</th>\n",
       "      <td>...</td>\n",
       "      <td>...</td>\n",
       "      <td>...</td>\n",
       "      <td>...</td>\n",
       "      <td>...</td>\n",
       "      <td>...</td>\n",
       "      <td>...</td>\n",
       "      <td>...</td>\n",
       "      <td>...</td>\n",
       "      <td>...</td>\n",
       "      <td>...</td>\n",
       "      <td>...</td>\n",
       "    </tr>\n",
       "    <tr>\n",
       "      <th>19914</th>\n",
       "      <td>1</td>\n",
       "      <td>1</td>\n",
       "      <td>1</td>\n",
       "      <td>1</td>\n",
       "      <td>2</td>\n",
       "      <td>2</td>\n",
       "      <td>0</td>\n",
       "      <td>0</td>\n",
       "      <td>1</td>\n",
       "      <td>0</td>\n",
       "      <td>1</td>\n",
       "      <td>2</td>\n",
       "    </tr>\n",
       "    <tr>\n",
       "      <th>19915</th>\n",
       "      <td>0</td>\n",
       "      <td>2</td>\n",
       "      <td>2</td>\n",
       "      <td>2</td>\n",
       "      <td>2</td>\n",
       "      <td>2</td>\n",
       "      <td>0</td>\n",
       "      <td>0</td>\n",
       "      <td>1</td>\n",
       "      <td>0</td>\n",
       "      <td>1</td>\n",
       "      <td>0</td>\n",
       "    </tr>\n",
       "    <tr>\n",
       "      <th>19916</th>\n",
       "      <td>1</td>\n",
       "      <td>1</td>\n",
       "      <td>2</td>\n",
       "      <td>1</td>\n",
       "      <td>0</td>\n",
       "      <td>2</td>\n",
       "      <td>1</td>\n",
       "      <td>0</td>\n",
       "      <td>1</td>\n",
       "      <td>1</td>\n",
       "      <td>4</td>\n",
       "      <td>0</td>\n",
       "    </tr>\n",
       "    <tr>\n",
       "      <th>19917</th>\n",
       "      <td>0</td>\n",
       "      <td>0</td>\n",
       "      <td>5</td>\n",
       "      <td>2</td>\n",
       "      <td>0</td>\n",
       "      <td>3</td>\n",
       "      <td>0</td>\n",
       "      <td>0</td>\n",
       "      <td>1</td>\n",
       "      <td>0</td>\n",
       "      <td>1</td>\n",
       "      <td>3</td>\n",
       "    </tr>\n",
       "    <tr>\n",
       "      <th>19918</th>\n",
       "      <td>1</td>\n",
       "      <td>1</td>\n",
       "      <td>4</td>\n",
       "      <td>2</td>\n",
       "      <td>1</td>\n",
       "      <td>1</td>\n",
       "      <td>2</td>\n",
       "      <td>0</td>\n",
       "      <td>1</td>\n",
       "      <td>1</td>\n",
       "      <td>4</td>\n",
       "      <td>7</td>\n",
       "    </tr>\n",
       "  </tbody>\n",
       "</table>\n",
       "<p>19919 rows × 12 columns</p>\n",
       "</div>"
      ],
      "text/plain": [
       "       gender  region_category  membership_category  joined_through_referral  \\\n",
       "0           0                2                    4                        1   \n",
       "1           1                2                    1                        1   \n",
       "2           0                1                    5                        1   \n",
       "3           1                1                    5                        2   \n",
       "4           0                1                    2                        2   \n",
       "...       ...              ...                  ...                      ...   \n",
       "19914       1                1                    1                        1   \n",
       "19915       0                2                    2                        2   \n",
       "19916       1                1                    2                        1   \n",
       "19917       0                0                    5                        2   \n",
       "19918       1                1                    4                        2   \n",
       "\n",
       "       preferred_offer_types  medium_of_operation  internet_option  \\\n",
       "0                          2                    3                2   \n",
       "1                          2                    2                0   \n",
       "2                          1                    1                1   \n",
       "3                          0                    0                0   \n",
       "4                          2                    3                1   \n",
       "...                      ...                  ...              ...   \n",
       "19914                      2                    2                0   \n",
       "19915                      2                    2                0   \n",
       "19916                      0                    2                1   \n",
       "19917                      0                    3                0   \n",
       "19918                      1                    1                2   \n",
       "\n",
       "       used_special_discount  offer_application_preference  past_complaint  \\\n",
       "0                          1                             0               0   \n",
       "1                          1                             0               0   \n",
       "2                          1                             0               1   \n",
       "3                          1                             0               1   \n",
       "4                          0                             1               1   \n",
       "...                      ...                           ...             ...   \n",
       "19914                      0                             1               0   \n",
       "19915                      0                             1               0   \n",
       "19916                      0                             1               1   \n",
       "19917                      0                             1               0   \n",
       "19918                      0                             1               1   \n",
       "\n",
       "       complaint_status  feedback  \n",
       "0                     1         2  \n",
       "1                     1         3  \n",
       "2                     3         0  \n",
       "3                     0         7  \n",
       "4                     3         3  \n",
       "...                 ...       ...  \n",
       "19914                 1         2  \n",
       "19915                 1         0  \n",
       "19916                 4         0  \n",
       "19917                 1         3  \n",
       "19918                 4         7  \n",
       "\n",
       "[19919 rows x 12 columns]"
      ]
     },
     "execution_count": 23,
     "metadata": {},
     "output_type": "execute_result"
    }
   ],
   "source": [
    "test_low_fin"
   ]
  },
  {
   "cell_type": "code",
   "execution_count": 24,
   "id": "organized-tissue",
   "metadata": {},
   "outputs": [],
   "source": [
    "y = train.churn_risk_score.copy()"
   ]
  },
  {
   "cell_type": "code",
   "execution_count": 25,
   "id": "medieval-ethiopia",
   "metadata": {},
   "outputs": [
    {
     "data": {
      "text/plain": [
       "0        2\n",
       "1        1\n",
       "2        5\n",
       "3        5\n",
       "4        5\n",
       "        ..\n",
       "36987    4\n",
       "36988    5\n",
       "36989    4\n",
       "36990    3\n",
       "36991    2\n",
       "Name: churn_risk_score, Length: 36992, dtype: int64"
      ]
     },
     "execution_count": 25,
     "metadata": {},
     "output_type": "execute_result"
    }
   ],
   "source": [
    "y"
   ]
  },
  {
   "cell_type": "code",
   "execution_count": null,
   "id": "offshore-thesis",
   "metadata": {},
   "outputs": [],
   "source": []
  },
  {
   "cell_type": "code",
   "execution_count": null,
   "id": "departmental-scout",
   "metadata": {},
   "outputs": [],
   "source": []
  },
  {
   "cell_type": "markdown",
   "id": "upset-television",
   "metadata": {},
   "source": [
    "### try model"
   ]
  },
  {
   "cell_type": "code",
   "execution_count": 26,
   "id": "decreased-indianapolis",
   "metadata": {},
   "outputs": [
    {
     "data": {
      "text/plain": [
       "RandomForestRegressor(random_state=42)"
      ]
     },
     "execution_count": 26,
     "metadata": {},
     "output_type": "execute_result"
    }
   ],
   "source": [
    "from sklearn.ensemble import RandomForestRegressor\n",
    "\n",
    "rf = RandomForestRegressor(n_estimators=100, random_state=42)\n",
    "rf.fit(train_low_fin, y)"
   ]
  },
  {
   "cell_type": "code",
   "execution_count": 27,
   "id": "eleven-cutting",
   "metadata": {},
   "outputs": [],
   "source": [
    "low_pred = rf.predict(test_low_fin)"
   ]
  },
  {
   "cell_type": "code",
   "execution_count": 28,
   "id": "british-appeal",
   "metadata": {},
   "outputs": [
    {
     "data": {
      "text/plain": [
       "array([2.91      , 3.26354762, 2.16571429, ..., 4.77      , 3.70516667,\n",
       "       2.62      ])"
      ]
     },
     "execution_count": 28,
     "metadata": {},
     "output_type": "execute_result"
    }
   ],
   "source": [
    "low_pred"
   ]
  },
  {
   "cell_type": "code",
   "execution_count": 29,
   "id": "moderate-cycling",
   "metadata": {},
   "outputs": [
    {
     "name": "stdout",
     "output_type": "stream",
     "text": [
      "3\n",
      "3\n"
     ]
    }
   ],
   "source": [
    "a = 2.51\n",
    "print(round(a))\n",
    "print(round(low_pred[0]))"
   ]
  },
  {
   "cell_type": "code",
   "execution_count": 30,
   "id": "amateur-pledge",
   "metadata": {},
   "outputs": [],
   "source": [
    "pred1 = []\n",
    "for x in low_pred:\n",
    "    pred1.append(round(x))"
   ]
  },
  {
   "cell_type": "code",
   "execution_count": 31,
   "id": "multiple-source",
   "metadata": {},
   "outputs": [],
   "source": [
    "#make_csv(pred1, \"submission1.csv\")"
   ]
  },
  {
   "cell_type": "code",
   "execution_count": 32,
   "id": "starting-editor",
   "metadata": {},
   "outputs": [],
   "source": [
    "first_sub = pd.read_csv('submission1.csv')"
   ]
  },
  {
   "cell_type": "code",
   "execution_count": 33,
   "id": "black-productivity",
   "metadata": {},
   "outputs": [
    {
     "data": {
      "text/html": [
       "<div>\n",
       "<style scoped>\n",
       "    .dataframe tbody tr th:only-of-type {\n",
       "        vertical-align: middle;\n",
       "    }\n",
       "\n",
       "    .dataframe tbody tr th {\n",
       "        vertical-align: top;\n",
       "    }\n",
       "\n",
       "    .dataframe thead th {\n",
       "        text-align: right;\n",
       "    }\n",
       "</style>\n",
       "<table border=\"1\" class=\"dataframe\">\n",
       "  <thead>\n",
       "    <tr style=\"text-align: right;\">\n",
       "      <th></th>\n",
       "      <th>customer_id</th>\n",
       "      <th>churn_risk_score</th>\n",
       "    </tr>\n",
       "  </thead>\n",
       "  <tbody>\n",
       "    <tr>\n",
       "      <th>0</th>\n",
       "      <td>fffe43004900440031003700300030003400</td>\n",
       "      <td>3</td>\n",
       "    </tr>\n",
       "    <tr>\n",
       "      <th>1</th>\n",
       "      <td>fffe43004900440031003900370037003300</td>\n",
       "      <td>3</td>\n",
       "    </tr>\n",
       "    <tr>\n",
       "      <th>2</th>\n",
       "      <td>fffe43004900440034003800360037003000</td>\n",
       "      <td>2</td>\n",
       "    </tr>\n",
       "    <tr>\n",
       "      <th>3</th>\n",
       "      <td>fffe43004900440036003200370033003400</td>\n",
       "      <td>4</td>\n",
       "    </tr>\n",
       "    <tr>\n",
       "      <th>4</th>\n",
       "      <td>fffe43004900440035003000370031003900</td>\n",
       "      <td>4</td>\n",
       "    </tr>\n",
       "    <tr>\n",
       "      <th>...</th>\n",
       "      <td>...</td>\n",
       "      <td>...</td>\n",
       "    </tr>\n",
       "    <tr>\n",
       "      <th>19914</th>\n",
       "      <td>fffe43004900440035003600330037003800</td>\n",
       "      <td>4</td>\n",
       "    </tr>\n",
       "    <tr>\n",
       "      <th>19915</th>\n",
       "      <td>fffe43004900440032003900370037003100</td>\n",
       "      <td>5</td>\n",
       "    </tr>\n",
       "    <tr>\n",
       "      <th>19916</th>\n",
       "      <td>fffe43004900440036003100310036003700</td>\n",
       "      <td>5</td>\n",
       "    </tr>\n",
       "    <tr>\n",
       "      <th>19917</th>\n",
       "      <td>fffe43004900440034003200330033003600</td>\n",
       "      <td>4</td>\n",
       "    </tr>\n",
       "    <tr>\n",
       "      <th>19918</th>\n",
       "      <td>fffe43004900440036003200340030003100</td>\n",
       "      <td>3</td>\n",
       "    </tr>\n",
       "  </tbody>\n",
       "</table>\n",
       "<p>19919 rows × 2 columns</p>\n",
       "</div>"
      ],
      "text/plain": [
       "                                customer_id  churn_risk_score\n",
       "0      fffe43004900440031003700300030003400                 3\n",
       "1      fffe43004900440031003900370037003300                 3\n",
       "2      fffe43004900440034003800360037003000                 2\n",
       "3      fffe43004900440036003200370033003400                 4\n",
       "4      fffe43004900440035003000370031003900                 4\n",
       "...                                     ...               ...\n",
       "19914  fffe43004900440035003600330037003800                 4\n",
       "19915  fffe43004900440032003900370037003100                 5\n",
       "19916  fffe43004900440036003100310036003700                 5\n",
       "19917  fffe43004900440034003200330033003600                 4\n",
       "19918  fffe43004900440036003200340030003100                 3\n",
       "\n",
       "[19919 rows x 2 columns]"
      ]
     },
     "execution_count": 33,
     "metadata": {},
     "output_type": "execute_result"
    }
   ],
   "source": [
    "first_sub"
   ]
  },
  {
   "cell_type": "code",
   "execution_count": 34,
   "id": "revised-disco",
   "metadata": {},
   "outputs": [
    {
     "data": {
      "text/html": [
       "<div>\n",
       "<style scoped>\n",
       "    .dataframe tbody tr th:only-of-type {\n",
       "        vertical-align: middle;\n",
       "    }\n",
       "\n",
       "    .dataframe tbody tr th {\n",
       "        vertical-align: top;\n",
       "    }\n",
       "\n",
       "    .dataframe thead th {\n",
       "        text-align: right;\n",
       "    }\n",
       "</style>\n",
       "<table border=\"1\" class=\"dataframe\">\n",
       "  <thead>\n",
       "    <tr style=\"text-align: right;\">\n",
       "      <th></th>\n",
       "      <th>customer_id</th>\n",
       "      <th>Name</th>\n",
       "      <th>age</th>\n",
       "      <th>gender</th>\n",
       "      <th>security_no</th>\n",
       "      <th>region_category</th>\n",
       "      <th>membership_category</th>\n",
       "      <th>joining_date</th>\n",
       "      <th>joined_through_referral</th>\n",
       "      <th>referral_id</th>\n",
       "      <th>...</th>\n",
       "      <th>days_since_last_login</th>\n",
       "      <th>avg_time_spent</th>\n",
       "      <th>avg_transaction_value</th>\n",
       "      <th>avg_frequency_login_days</th>\n",
       "      <th>points_in_wallet</th>\n",
       "      <th>used_special_discount</th>\n",
       "      <th>offer_application_preference</th>\n",
       "      <th>past_complaint</th>\n",
       "      <th>complaint_status</th>\n",
       "      <th>feedback</th>\n",
       "    </tr>\n",
       "  </thead>\n",
       "  <tbody>\n",
       "    <tr>\n",
       "      <th>0</th>\n",
       "      <td>fffe43004900440031003700300030003400</td>\n",
       "      <td>Alethia Meints</td>\n",
       "      <td>50</td>\n",
       "      <td>F</td>\n",
       "      <td>OQJ1XAY</td>\n",
       "      <td>Village</td>\n",
       "      <td>Premium Membership</td>\n",
       "      <td>2015-11-02</td>\n",
       "      <td>No</td>\n",
       "      <td>xxxxxxxx</td>\n",
       "      <td>...</td>\n",
       "      <td>12</td>\n",
       "      <td>386.26</td>\n",
       "      <td>40721.44</td>\n",
       "      <td>7.0</td>\n",
       "      <td>733.830000</td>\n",
       "      <td>Yes</td>\n",
       "      <td>No</td>\n",
       "      <td>No</td>\n",
       "      <td>Not Applicable</td>\n",
       "      <td>Poor Product Quality</td>\n",
       "    </tr>\n",
       "    <tr>\n",
       "      <th>1</th>\n",
       "      <td>fffe43004900440031003900370037003300</td>\n",
       "      <td>Ming Lopez</td>\n",
       "      <td>41</td>\n",
       "      <td>M</td>\n",
       "      <td>OUQRPKO</td>\n",
       "      <td>Village</td>\n",
       "      <td>Gold Membership</td>\n",
       "      <td>2016-03-01</td>\n",
       "      <td>No</td>\n",
       "      <td>xxxxxxxx</td>\n",
       "      <td>...</td>\n",
       "      <td>11</td>\n",
       "      <td>37.80</td>\n",
       "      <td>9644.40</td>\n",
       "      <td>9.0</td>\n",
       "      <td>726.000000</td>\n",
       "      <td>Yes</td>\n",
       "      <td>No</td>\n",
       "      <td>No</td>\n",
       "      <td>Not Applicable</td>\n",
       "      <td>Poor Website</td>\n",
       "    </tr>\n",
       "    <tr>\n",
       "      <th>2</th>\n",
       "      <td>fffe43004900440034003800360037003000</td>\n",
       "      <td>Carina Flannigan</td>\n",
       "      <td>31</td>\n",
       "      <td>F</td>\n",
       "      <td>02J2RE7</td>\n",
       "      <td>Town</td>\n",
       "      <td>Silver Membership</td>\n",
       "      <td>2017-03-03</td>\n",
       "      <td>No</td>\n",
       "      <td>xxxxxxxx</td>\n",
       "      <td>...</td>\n",
       "      <td>18</td>\n",
       "      <td>215.36</td>\n",
       "      <td>3693.25</td>\n",
       "      <td>21.0</td>\n",
       "      <td>713.780000</td>\n",
       "      <td>Yes</td>\n",
       "      <td>No</td>\n",
       "      <td>Yes</td>\n",
       "      <td>Solved in Follow-up</td>\n",
       "      <td>No reason specified</td>\n",
       "    </tr>\n",
       "    <tr>\n",
       "      <th>3</th>\n",
       "      <td>fffe43004900440036003200370033003400</td>\n",
       "      <td>Kyung Wanner</td>\n",
       "      <td>64</td>\n",
       "      <td>M</td>\n",
       "      <td>5YEQIF1</td>\n",
       "      <td>Town</td>\n",
       "      <td>Silver Membership</td>\n",
       "      <td>2017-08-18</td>\n",
       "      <td>Yes</td>\n",
       "      <td>CID8941</td>\n",
       "      <td>...</td>\n",
       "      <td>-999</td>\n",
       "      <td>44.57</td>\n",
       "      <td>36809.56</td>\n",
       "      <td>11.0</td>\n",
       "      <td>744.970000</td>\n",
       "      <td>Yes</td>\n",
       "      <td>No</td>\n",
       "      <td>Yes</td>\n",
       "      <td>No Information Available</td>\n",
       "      <td>Too many ads</td>\n",
       "    </tr>\n",
       "    <tr>\n",
       "      <th>4</th>\n",
       "      <td>fffe43004900440035003000370031003900</td>\n",
       "      <td>Enola Gatto</td>\n",
       "      <td>16</td>\n",
       "      <td>F</td>\n",
       "      <td>100RYB5</td>\n",
       "      <td>Town</td>\n",
       "      <td>No Membership</td>\n",
       "      <td>2015-05-05</td>\n",
       "      <td>Yes</td>\n",
       "      <td>CID5690</td>\n",
       "      <td>...</td>\n",
       "      <td>6</td>\n",
       "      <td>349.88</td>\n",
       "      <td>40675.86</td>\n",
       "      <td>8.0</td>\n",
       "      <td>299.048351</td>\n",
       "      <td>No</td>\n",
       "      <td>Yes</td>\n",
       "      <td>Yes</td>\n",
       "      <td>Solved in Follow-up</td>\n",
       "      <td>Poor Website</td>\n",
       "    </tr>\n",
       "    <tr>\n",
       "      <th>...</th>\n",
       "      <td>...</td>\n",
       "      <td>...</td>\n",
       "      <td>...</td>\n",
       "      <td>...</td>\n",
       "      <td>...</td>\n",
       "      <td>...</td>\n",
       "      <td>...</td>\n",
       "      <td>...</td>\n",
       "      <td>...</td>\n",
       "      <td>...</td>\n",
       "      <td>...</td>\n",
       "      <td>...</td>\n",
       "      <td>...</td>\n",
       "      <td>...</td>\n",
       "      <td>...</td>\n",
       "      <td>...</td>\n",
       "      <td>...</td>\n",
       "      <td>...</td>\n",
       "      <td>...</td>\n",
       "      <td>...</td>\n",
       "      <td>...</td>\n",
       "    </tr>\n",
       "    <tr>\n",
       "      <th>19914</th>\n",
       "      <td>fffe43004900440035003600330037003800</td>\n",
       "      <td>Kraig Peele</td>\n",
       "      <td>12</td>\n",
       "      <td>M</td>\n",
       "      <td>2V0HA0O</td>\n",
       "      <td>NaN</td>\n",
       "      <td>Gold Membership</td>\n",
       "      <td>2015-01-25</td>\n",
       "      <td>No</td>\n",
       "      <td>xxxxxxxx</td>\n",
       "      <td>...</td>\n",
       "      <td>16</td>\n",
       "      <td>103.57</td>\n",
       "      <td>46279.35</td>\n",
       "      <td>18.0</td>\n",
       "      <td>708.120000</td>\n",
       "      <td>No</td>\n",
       "      <td>Yes</td>\n",
       "      <td>No</td>\n",
       "      <td>Not Applicable</td>\n",
       "      <td>Poor Product Quality</td>\n",
       "    </tr>\n",
       "    <tr>\n",
       "      <th>19915</th>\n",
       "      <td>fffe43004900440032003900370037003100</td>\n",
       "      <td>Damaris Sabol</td>\n",
       "      <td>40</td>\n",
       "      <td>F</td>\n",
       "      <td>VJGQD6Q</td>\n",
       "      <td>Village</td>\n",
       "      <td>No Membership</td>\n",
       "      <td>2017-12-31</td>\n",
       "      <td>Yes</td>\n",
       "      <td>CID45490</td>\n",
       "      <td>...</td>\n",
       "      <td>21</td>\n",
       "      <td>63.19</td>\n",
       "      <td>23466.26</td>\n",
       "      <td>Error</td>\n",
       "      <td>574.340000</td>\n",
       "      <td>No</td>\n",
       "      <td>Yes</td>\n",
       "      <td>No</td>\n",
       "      <td>Not Applicable</td>\n",
       "      <td>No reason specified</td>\n",
       "    </tr>\n",
       "    <tr>\n",
       "      <th>19916</th>\n",
       "      <td>fffe43004900440036003100310036003700</td>\n",
       "      <td>Loura Huckstep</td>\n",
       "      <td>55</td>\n",
       "      <td>M</td>\n",
       "      <td>ADE7LWA</td>\n",
       "      <td>Town</td>\n",
       "      <td>No Membership</td>\n",
       "      <td>2015-09-09</td>\n",
       "      <td>No</td>\n",
       "      <td>xxxxxxxx</td>\n",
       "      <td>...</td>\n",
       "      <td>18</td>\n",
       "      <td>68.72</td>\n",
       "      <td>17903.75</td>\n",
       "      <td>24.0</td>\n",
       "      <td>564.300000</td>\n",
       "      <td>No</td>\n",
       "      <td>Yes</td>\n",
       "      <td>Yes</td>\n",
       "      <td>Unsolved</td>\n",
       "      <td>No reason specified</td>\n",
       "    </tr>\n",
       "    <tr>\n",
       "      <th>19917</th>\n",
       "      <td>fffe43004900440034003200330033003600</td>\n",
       "      <td>Sharita Clubb</td>\n",
       "      <td>17</td>\n",
       "      <td>F</td>\n",
       "      <td>A35KUBS</td>\n",
       "      <td>City</td>\n",
       "      <td>Silver Membership</td>\n",
       "      <td>2016-04-17</td>\n",
       "      <td>Yes</td>\n",
       "      <td>CID37167</td>\n",
       "      <td>...</td>\n",
       "      <td>3</td>\n",
       "      <td>119.54</td>\n",
       "      <td>14057.09</td>\n",
       "      <td>22.0</td>\n",
       "      <td>606.340000</td>\n",
       "      <td>No</td>\n",
       "      <td>Yes</td>\n",
       "      <td>No</td>\n",
       "      <td>Not Applicable</td>\n",
       "      <td>Poor Website</td>\n",
       "    </tr>\n",
       "    <tr>\n",
       "      <th>19918</th>\n",
       "      <td>fffe43004900440036003200340030003100</td>\n",
       "      <td>Ying Branum</td>\n",
       "      <td>20</td>\n",
       "      <td>M</td>\n",
       "      <td>IPJKJJV</td>\n",
       "      <td>Town</td>\n",
       "      <td>Premium Membership</td>\n",
       "      <td>2017-10-30</td>\n",
       "      <td>Yes</td>\n",
       "      <td>CID56352</td>\n",
       "      <td>...</td>\n",
       "      <td>8</td>\n",
       "      <td>505.26</td>\n",
       "      <td>36786.44</td>\n",
       "      <td>Error</td>\n",
       "      <td>1193.689813</td>\n",
       "      <td>No</td>\n",
       "      <td>Yes</td>\n",
       "      <td>Yes</td>\n",
       "      <td>Unsolved</td>\n",
       "      <td>Too many ads</td>\n",
       "    </tr>\n",
       "  </tbody>\n",
       "</table>\n",
       "<p>19919 rows × 24 columns</p>\n",
       "</div>"
      ],
      "text/plain": [
       "                                customer_id              Name  age gender  \\\n",
       "0      fffe43004900440031003700300030003400    Alethia Meints   50      F   \n",
       "1      fffe43004900440031003900370037003300        Ming Lopez   41      M   \n",
       "2      fffe43004900440034003800360037003000  Carina Flannigan   31      F   \n",
       "3      fffe43004900440036003200370033003400      Kyung Wanner   64      M   \n",
       "4      fffe43004900440035003000370031003900       Enola Gatto   16      F   \n",
       "...                                     ...               ...  ...    ...   \n",
       "19914  fffe43004900440035003600330037003800       Kraig Peele   12      M   \n",
       "19915  fffe43004900440032003900370037003100     Damaris Sabol   40      F   \n",
       "19916  fffe43004900440036003100310036003700    Loura Huckstep   55      M   \n",
       "19917  fffe43004900440034003200330033003600     Sharita Clubb   17      F   \n",
       "19918  fffe43004900440036003200340030003100       Ying Branum   20      M   \n",
       "\n",
       "      security_no region_category membership_category joining_date  \\\n",
       "0         OQJ1XAY         Village  Premium Membership   2015-11-02   \n",
       "1         OUQRPKO         Village     Gold Membership   2016-03-01   \n",
       "2         02J2RE7            Town   Silver Membership   2017-03-03   \n",
       "3         5YEQIF1            Town   Silver Membership   2017-08-18   \n",
       "4         100RYB5            Town       No Membership   2015-05-05   \n",
       "...           ...             ...                 ...          ...   \n",
       "19914     2V0HA0O             NaN     Gold Membership   2015-01-25   \n",
       "19915     VJGQD6Q         Village       No Membership   2017-12-31   \n",
       "19916     ADE7LWA            Town       No Membership   2015-09-09   \n",
       "19917     A35KUBS            City   Silver Membership   2016-04-17   \n",
       "19918     IPJKJJV            Town  Premium Membership   2017-10-30   \n",
       "\n",
       "      joined_through_referral referral_id  ... days_since_last_login  \\\n",
       "0                          No    xxxxxxxx  ...                    12   \n",
       "1                          No    xxxxxxxx  ...                    11   \n",
       "2                          No    xxxxxxxx  ...                    18   \n",
       "3                         Yes     CID8941  ...                  -999   \n",
       "4                         Yes     CID5690  ...                     6   \n",
       "...                       ...         ...  ...                   ...   \n",
       "19914                      No    xxxxxxxx  ...                    16   \n",
       "19915                     Yes    CID45490  ...                    21   \n",
       "19916                      No    xxxxxxxx  ...                    18   \n",
       "19917                     Yes    CID37167  ...                     3   \n",
       "19918                     Yes    CID56352  ...                     8   \n",
       "\n",
       "      avg_time_spent avg_transaction_value avg_frequency_login_days  \\\n",
       "0             386.26              40721.44                      7.0   \n",
       "1              37.80               9644.40                      9.0   \n",
       "2             215.36               3693.25                     21.0   \n",
       "3              44.57              36809.56                     11.0   \n",
       "4             349.88              40675.86                      8.0   \n",
       "...              ...                   ...                      ...   \n",
       "19914         103.57              46279.35                     18.0   \n",
       "19915          63.19              23466.26                    Error   \n",
       "19916          68.72              17903.75                     24.0   \n",
       "19917         119.54              14057.09                     22.0   \n",
       "19918         505.26              36786.44                    Error   \n",
       "\n",
       "       points_in_wallet  used_special_discount  offer_application_preference  \\\n",
       "0            733.830000                    Yes                            No   \n",
       "1            726.000000                    Yes                            No   \n",
       "2            713.780000                    Yes                            No   \n",
       "3            744.970000                    Yes                            No   \n",
       "4            299.048351                     No                           Yes   \n",
       "...                 ...                    ...                           ...   \n",
       "19914        708.120000                     No                           Yes   \n",
       "19915        574.340000                     No                           Yes   \n",
       "19916        564.300000                     No                           Yes   \n",
       "19917        606.340000                     No                           Yes   \n",
       "19918       1193.689813                     No                           Yes   \n",
       "\n",
       "      past_complaint          complaint_status              feedback  \n",
       "0                 No            Not Applicable  Poor Product Quality  \n",
       "1                 No            Not Applicable          Poor Website  \n",
       "2                Yes       Solved in Follow-up   No reason specified  \n",
       "3                Yes  No Information Available          Too many ads  \n",
       "4                Yes       Solved in Follow-up          Poor Website  \n",
       "...              ...                       ...                   ...  \n",
       "19914             No            Not Applicable  Poor Product Quality  \n",
       "19915             No            Not Applicable   No reason specified  \n",
       "19916            Yes                  Unsolved   No reason specified  \n",
       "19917             No            Not Applicable          Poor Website  \n",
       "19918            Yes                  Unsolved          Too many ads  \n",
       "\n",
       "[19919 rows x 24 columns]"
      ]
     },
     "execution_count": 34,
     "metadata": {},
     "output_type": "execute_result"
    }
   ],
   "source": [
    "test"
   ]
  },
  {
   "cell_type": "code",
   "execution_count": 36,
   "id": "tender-filename",
   "metadata": {},
   "outputs": [
    {
     "data": {
      "text/plain": [
       " 3    10424\n",
       " 4    10185\n",
       " 5     9827\n",
       " 2     2741\n",
       " 1     2652\n",
       "-1     1163\n",
       "Name: churn_risk_score, dtype: int64"
      ]
     },
     "execution_count": 36,
     "metadata": {},
     "output_type": "execute_result"
    }
   ],
   "source": [
    "train.churn_risk_score.value_counts()"
   ]
  },
  {
   "cell_type": "code",
   "execution_count": 37,
   "id": "precious-estonia",
   "metadata": {},
   "outputs": [
    {
     "data": {
      "text/plain": [
       "3    6643\n",
       "4    5407\n",
       "5    4147\n",
       "1    2124\n",
       "2    1530\n",
       "0      68\n",
       "Name: churn_risk_score, dtype: int64"
      ]
     },
     "execution_count": 37,
     "metadata": {},
     "output_type": "execute_result"
    }
   ],
   "source": [
    "first_sub.churn_risk_score.value_counts()"
   ]
  },
  {
   "cell_type": "markdown",
   "id": "appreciated-desperate",
   "metadata": {},
   "source": [
    "## try nueral network"
   ]
  },
  {
   "cell_type": "code",
   "execution_count": 42,
   "id": "cardiovascular-antigua",
   "metadata": {},
   "outputs": [],
   "source": [
    "from sklearn.neural_network import MLPClassifier\n",
    "\n",
    "clf = MLPClassifier(hidden_layer_sizes=(5, 2), random_state=1)"
   ]
  },
  {
   "cell_type": "code",
   "execution_count": 40,
   "id": "traditional-offer",
   "metadata": {},
   "outputs": [],
   "source": [
    "from sklearn.preprocessing import StandardScaler\n",
    "\n",
    "scl = StandardScaler()\n",
    "\n",
    "train_low_scl = scl.fit_transform(train_low_fin)\n",
    "test_low_scl = scl.transform(test_low_fin)"
   ]
  },
  {
   "cell_type": "code",
   "execution_count": null,
   "id": "charming-looking",
   "metadata": {},
   "outputs": [],
   "source": []
  },
  {
   "cell_type": "code",
   "execution_count": 43,
   "id": "minute-creation",
   "metadata": {},
   "outputs": [
    {
     "data": {
      "text/plain": [
       "MLPClassifier(hidden_layer_sizes=(5, 2), random_state=1)"
      ]
     },
     "execution_count": 43,
     "metadata": {},
     "output_type": "execute_result"
    }
   ],
   "source": [
    "clf.fit(train_low_scl, y)"
   ]
  },
  {
   "cell_type": "code",
   "execution_count": 45,
   "id": "basic-homework",
   "metadata": {},
   "outputs": [
    {
     "data": {
      "text/plain": [
       "['nn_clf.sav']"
      ]
     },
     "execution_count": 45,
     "metadata": {},
     "output_type": "execute_result"
    }
   ],
   "source": [
    "import joblib as jb\n",
    "name = 'nn_clf.sav'\n",
    "#jb.dump(clf, name)"
   ]
  },
  {
   "cell_type": "code",
   "execution_count": 46,
   "id": "cutting-thread",
   "metadata": {},
   "outputs": [],
   "source": [
    "nn_clf = jb.load(name)"
   ]
  },
  {
   "cell_type": "code",
   "execution_count": 47,
   "id": "fixed-appearance",
   "metadata": {},
   "outputs": [],
   "source": [
    "pred2 = nn_clf.predict(test_low_scl)"
   ]
  },
  {
   "cell_type": "code",
   "execution_count": 48,
   "id": "novel-buddy",
   "metadata": {},
   "outputs": [
    {
     "data": {
      "text/plain": [
       "array([3, 4, 3, ..., 5, 3, 2], dtype=int64)"
      ]
     },
     "execution_count": 48,
     "metadata": {},
     "output_type": "execute_result"
    }
   ],
   "source": [
    "pred2"
   ]
  },
  {
   "cell_type": "code",
   "execution_count": 49,
   "id": "ordinary-empire",
   "metadata": {},
   "outputs": [],
   "source": [
    "#make_csv(pred2, 'submission2.csv')"
   ]
  },
  {
   "cell_type": "code",
   "execution_count": null,
   "id": "going-europe",
   "metadata": {},
   "outputs": [],
   "source": []
  },
  {
   "cell_type": "markdown",
   "id": "regional-portrait",
   "metadata": {},
   "source": [
    "### try random forest with scaled data"
   ]
  },
  {
   "cell_type": "code",
   "execution_count": 50,
   "id": "bright-uzbekistan",
   "metadata": {},
   "outputs": [
    {
     "data": {
      "text/plain": [
       "RandomForestRegressor(random_state=42)"
      ]
     },
     "execution_count": 50,
     "metadata": {},
     "output_type": "execute_result"
    }
   ],
   "source": [
    "rf2 = RandomForestRegressor(n_estimators=100, random_state=42)\n",
    "rf2.fit(train_low_scl, y)"
   ]
  },
  {
   "cell_type": "code",
   "execution_count": 51,
   "id": "unknown-coating",
   "metadata": {},
   "outputs": [],
   "source": [
    "pred3 = rf2.predict(test_low_scl)"
   ]
  },
  {
   "cell_type": "code",
   "execution_count": 52,
   "id": "expected-operator",
   "metadata": {},
   "outputs": [
    {
     "data": {
      "text/plain": [
       "array([2.91      , 3.26354762, 2.39238095, ..., 4.77      , 3.70516667,\n",
       "       2.62      ])"
      ]
     },
     "execution_count": 52,
     "metadata": {},
     "output_type": "execute_result"
    }
   ],
   "source": [
    "pred3"
   ]
  },
  {
   "cell_type": "code",
   "execution_count": 53,
   "id": "distinguished-rates",
   "metadata": {},
   "outputs": [],
   "source": [
    "pred31 = []\n",
    "for x in pred3:\n",
    "    pred31.append(round(x))"
   ]
  },
  {
   "cell_type": "code",
   "execution_count": 55,
   "id": "opposite-scope",
   "metadata": {},
   "outputs": [],
   "source": [
    "#make_csv(pred31, 'submission3.csv')"
   ]
  },
  {
   "cell_type": "code",
   "execution_count": null,
   "id": "liked-classic",
   "metadata": {},
   "outputs": [],
   "source": []
  },
  {
   "cell_type": "markdown",
   "id": "identical-devon",
   "metadata": {},
   "source": [
    "### Try SGD Classificaion"
   ]
  },
  {
   "cell_type": "code",
   "execution_count": 56,
   "id": "possible-analyst",
   "metadata": {},
   "outputs": [],
   "source": [
    "from sklearn.linear_model import SGDClassifier\n",
    "\n",
    "sgd = SGDClassifier(max_iter=1000)"
   ]
  },
  {
   "cell_type": "code",
   "execution_count": 58,
   "id": "fitted-warehouse",
   "metadata": {},
   "outputs": [
    {
     "data": {
      "text/plain": [
       "SGDClassifier()"
      ]
     },
     "execution_count": 58,
     "metadata": {},
     "output_type": "execute_result"
    }
   ],
   "source": [
    "sgd.fit(train_low_scl, y)"
   ]
  },
  {
   "cell_type": "code",
   "execution_count": 59,
   "id": "lasting-subcommittee",
   "metadata": {},
   "outputs": [],
   "source": [
    "pred4 = sgd.predict(test_low_scl)"
   ]
  },
  {
   "cell_type": "code",
   "execution_count": 60,
   "id": "diagnostic-missouri",
   "metadata": {},
   "outputs": [
    {
     "data": {
      "text/plain": [
       "array([3, 5, 3, ..., 3, 3, 1], dtype=int64)"
      ]
     },
     "execution_count": 60,
     "metadata": {},
     "output_type": "execute_result"
    }
   ],
   "source": [
    "pred4"
   ]
  },
  {
   "cell_type": "code",
   "execution_count": 61,
   "id": "interested-builder",
   "metadata": {},
   "outputs": [],
   "source": [
    "#make_csv(pred4, 'submission4.csv')"
   ]
  },
  {
   "cell_type": "code",
   "execution_count": null,
   "id": "armed-copper",
   "metadata": {},
   "outputs": [],
   "source": []
  }
 ],
 "metadata": {
  "kernelspec": {
   "display_name": "Python 3",
   "language": "python",
   "name": "python3"
  },
  "language_info": {
   "codemirror_mode": {
    "name": "ipython",
    "version": 3
   },
   "file_extension": ".py",
   "mimetype": "text/x-python",
   "name": "python",
   "nbconvert_exporter": "python",
   "pygments_lexer": "ipython3",
   "version": "3.8.3"
  }
 },
 "nbformat": 4,
 "nbformat_minor": 5
}
